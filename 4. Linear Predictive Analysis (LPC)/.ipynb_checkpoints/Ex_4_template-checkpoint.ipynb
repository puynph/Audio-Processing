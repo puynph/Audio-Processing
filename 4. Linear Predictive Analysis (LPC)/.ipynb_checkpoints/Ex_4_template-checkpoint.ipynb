{
 "cells": [
  {
   "cell_type": "code",
   "execution_count": null,
   "id": "e009da26",
   "metadata": {},
   "outputs": [],
   "source": [
    "import numpy as np\n",
    "import matplotlib.pyplot as plt\n",
    "import librosa as lb\n",
    "from scipy.fftpack import fft\n",
    "import sounddevice as sd\n",
    "from scipy.signal import hann, hamming\n",
    "\n",
    "from audiolazy import lazy_lpc as lpc"
   ]
  },
  {
   "cell_type": "code",
   "execution_count": null,
   "id": "a6b8d441",
   "metadata": {},
   "outputs": [],
   "source": [
    "# provided functions\n",
    "def est_predictor_gain(x, a, p):\n",
    "    '''\n",
    "    A function to compute gain of the residual signal in LP analysis.\n",
    "    x:  signal \n",
    "    a: LPC coefficients\n",
    "    p: order of the filter\n",
    "    '''\n",
    "    cor = np.correlate(x, x, mode='full')\n",
    "    \n",
    "    rr = cor[len(cor)//2: len(cor)//2+p+1]\n",
    "    g = np.sqrt(np.sum(a*rr))\n",
    "    return g\n",
    "\n",
    "   \n",
    "    \n",
    "def reject_outliers(data, m=2):\n",
    "    '''\n",
    "    Function to reject outliers. All values beyond m standard deviations from mean are excluded\n",
    "    '''\n",
    "    return data[abs(data - np.mean(data)) < m * np.std(data)]"
   ]
  },
  {
   "cell_type": "markdown",
   "id": "543af64d",
   "metadata": {},
   "source": [
    "### 1. Linear prediction analysis. (1 point) "
   ]
  },
  {
   "cell_type": "code",
   "execution_count": null,
   "id": "ce350942",
   "metadata": {},
   "outputs": [],
   "source": [
    "# Read audio\n",
    "audioIn, fs = lb.load('audio.wav', sr=None)   \n",
    "\n",
    "# filter order\n",
    "p = 4  # d) has to be tuned\n",
    "\n",
    "# number of DFT points\n",
    "nfft = 1024\n",
    "\n",
    "inInd =0\n",
    "wLen = int(0.02*fs) # 20 ms window\n",
    "win = hamming(wLen) # hamming window for example\n",
    "\n",
    "cnt = 0\n",
    "numframes = np.ceil( (len(audioIn)-wLen)/(wLen/2)) # number of franes \n",
    "formants  = []                                     # A placeholder for storing formants\n",
    "\n",
    "# choose a representative frame of the vowel\n",
    "plot_frame = int(numframes/2)  # middle of the vowel\n",
    "\n",
    "# The analysis loop\n",
    "while inInd< len(audioIn)-wLen:\n",
    "    # audio frame\n",
    "    frame = audioIn[inInd:inInd+wLen]* win\n",
    "    \n",
    "    \n",
    "    # a) compute LPC and gain using audiolazy library\n",
    "    \n",
    " \n",
    "    \n",
    "    # b) Compute the filter tansfer function using scipy.signal.freqz\n",
    " \n",
    "    \n",
    "    # Compute DFT spectrum\n",
    "    \n",
    "    \n",
    "    inInd = inInd + int(wLen/2) # frame advance\n",
    "    \n",
    "    cnt = cnt+1\n",
    "    \n",
    "    # c) Select a frame and plot the FFT spectrum and LPC spectrum in the same figure\n",
    "    if cnt == plot_frame :\n",
    "        # plot DFT spectrum (remember both in dB scale)\n",
    "        # plot LPC spectrum\n",
    "        plt.figure()\n",
    "        "
   ]
  },
  {
   "cell_type": "markdown",
   "id": "fe8cd199",
   "metadata": {},
   "source": [
    "#### d) Comment of the connection between lpc model order and peaks in the DFT spectrum."
   ]
  },
  {
   "cell_type": "code",
   "execution_count": null,
   "id": "5ba9ba77",
   "metadata": {},
   "outputs": [],
   "source": []
  },
  {
   "cell_type": "markdown",
   "id": "a3ba1102",
   "metadata": {},
   "source": [
    "#### Is the best order selection dependent on the vowel or not?"
   ]
  },
  {
   "cell_type": "code",
   "execution_count": null,
   "id": "454c1b7c",
   "metadata": {},
   "outputs": [],
   "source": []
  },
  {
   "cell_type": "markdown",
   "id": "8825e687",
   "metadata": {},
   "source": [
    "### 2. Formant analysis. (1 point)"
   ]
  },
  {
   "cell_type": "markdown",
   "id": "b8c73d6a",
   "metadata": {},
   "source": [
    "#### Add more steps in the previous analysis loop"
   ]
  },
  {
   "cell_type": "code",
   "execution_count": null,
   "id": "fa5d8b14",
   "metadata": {},
   "outputs": [],
   "source": [
    "# Read audio\n",
    "audioIn, fs = lb.load('audio.wav', sr=None)   \n",
    "\n",
    "# filter order\n",
    "p = 4  # d) has to be tuned\n",
    "\n",
    "# number of DFT points\n",
    "nfft = 1024\n",
    "\n",
    "inInd =0\n",
    "wLen = int(0.02*fs) # 20 ms window\n",
    "win = hamming(wLen) # hamming window for example\n",
    "\n",
    "cnt = 0\n",
    "numframes = np.ceil( (len(audioIn)-wLen)/(wLen/2)) # number of franes \n",
    "formants  = []                                     # A placeholder for storing formants\n",
    "\n",
    "# choose a representative frame of the vowel\n",
    "plot_frame = int(numframes/2)  # middle of the vowel\n",
    "\n",
    "# The analysis loop\n",
    "while inInd< len(audioIn)-wLen:\n",
    "    # audio frame\n",
    "    frame = audioIn[inInd:inInd+wLen]* win\n",
    "    \n",
    "    \n",
    "    # Compute LPC and gain using audiolazy library\n",
    "    \n",
    " \n",
    "    # Compute the filter tansfer function using scipy.signal.freqz\n",
    " \n",
    "    \n",
    "    # Compute DFT spectrum\n",
    "    \n",
    "    \n",
    "    # a) Compute roots (np.roots)\n",
    "       \n",
    " \n",
    "    # LPC coefficients are real-valued, the roots occur in complex conjugate pairs.\n",
    "    # Retain only the roots with +ve sign for the imaginary part \n",
    "    \n",
    "    \n",
    "    # b.1) compute formants from roots (np.angle)\n",
    "    \n",
    "\n",
    "    # convert to Hertz from angular frequencies\n",
    "    angz = angz*(fs/(2*np.pi))\n",
    "\n",
    "    # sort the formants in increasing order\n",
    "    angz = np.sort(angz)\n",
    "    \n",
    "    # remove zero frequencies\n",
    "    angz = angz[angz !=0]\n",
    "    \n",
    "    # b.2) Save first three formants\n",
    "    formants.append(angz[:3]) \n",
    "    \n",
    "    inInd = inInd + int(wLen/2) # frame advance\n",
    "       \n",
    "\n",
    "        \n",
    "\n",
    "formants = np.array(formants)\n",
    "# b.3) For each separate vowel calculate average formant frequencies\n",
    "print('------ The computed formants are :', np.mean(formants, 0))\n",
    "\n",
    "# Refine formant estimations (optional)"
   ]
  },
  {
   "cell_type": "markdown",
   "id": "bb078e8d",
   "metadata": {},
   "source": [
    "#### b.4) Compare the obtained values with the indicative values. "
   ]
  },
  {
   "cell_type": "code",
   "execution_count": null,
   "id": "69431a16",
   "metadata": {},
   "outputs": [],
   "source": []
  },
  {
   "cell_type": "markdown",
   "id": "e8e3415d",
   "metadata": {},
   "source": [
    "### Bonus problem: What happens if you apply LPC to the oboe sound? What are the corresponding \"formants\"?"
   ]
  },
  {
   "cell_type": "code",
   "execution_count": null,
   "id": "425c622f",
   "metadata": {},
   "outputs": [],
   "source": []
  }
 ],
 "metadata": {
  "kernelspec": {
   "display_name": "Python 3 (ipykernel)",
   "language": "python",
   "name": "python3"
  },
  "language_info": {
   "codemirror_mode": {
    "name": "ipython",
    "version": 3
   },
   "file_extension": ".py",
   "mimetype": "text/x-python",
   "name": "python",
   "nbconvert_exporter": "python",
   "pygments_lexer": "ipython3",
   "version": "3.10.13"
  }
 },
 "nbformat": 4,
 "nbformat_minor": 5
}
